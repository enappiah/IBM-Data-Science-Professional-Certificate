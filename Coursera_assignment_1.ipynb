{
    "cells": [
        {
            "cell_type": "markdown",
            "metadata": {
                "collapsed": true
            },
            "source": "# My Jupyter Notebook on IBM Watson Studio"
        },
        {
            "cell_type": "markdown",
            "metadata": {},
            "source": "ENOCH APPIAH\n\nENERGY ENGINEER AND SELF_TAUGHT DATA SCIENTIST"
        },
        {
            "cell_type": "markdown",
            "metadata": {},
            "source": "*I am fascinated by data science because of the massive amount of data gathered recently and which needs to be given attention.*\n\n*I am interested in data science because i want to use data-driven mdodels to increase energy systems operations and efficiency.*"
        },
        {
            "cell_type": "markdown",
            "metadata": {},
            "source": "### My code will ask for you height and weight and print out your Body mass index (BMI)"
        },
        {
            "cell_type": "code",
            "execution_count": 1,
            "metadata": {},
            "outputs": [
                {
                    "name": "stdout",
                    "output_type": "stream",
                    "text": "how tall are you (in cm)? 160\nHow much do you weigh (in Kg))? 70\n................................................................................\nYour BMI is 27.34\n"
                }
            ],
            "source": "height = float(input(\"how tall are you (in cm)? \"))\nweight = float(input(\"How much do you weigh (in Kg))? \"))\nBMI = float(weight/((height/100)**2))\n\nprint('................................................................................')\nprint(\"Your BMI is \"+\"{:.2f}\".format(BMI))"
        },
        {
            "cell_type": "markdown",
            "metadata": {},
            "source": "* Your BMI is stated above. \n* Remember your height must be in cm and not ~m~\n1. You can use the link below to confirm:\nThis is the link [https://www.nhlbi.nih.gov/health/educational/lose_wt/BMI/bmi-m.htm]"
        },
        {
            "cell_type": "code",
            "execution_count": null,
            "metadata": {},
            "outputs": [],
            "source": ""
        }
    ],
    "metadata": {
        "kernelspec": {
            "display_name": "Python 3.8",
            "language": "python",
            "name": "python3"
        },
        "language_info": {
            "codemirror_mode": {
                "name": "ipython",
                "version": 3
            },
            "file_extension": ".py",
            "mimetype": "text/x-python",
            "name": "python",
            "nbconvert_exporter": "python",
            "pygments_lexer": "ipython3",
            "version": "3.8.12"
        }
    },
    "nbformat": 4,
    "nbformat_minor": 1
}